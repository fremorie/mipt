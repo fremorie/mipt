{
 "cells": [
  {
   "cell_type": "code",
   "execution_count": 1,
   "metadata": {
    "collapsed": true
   },
   "outputs": [],
   "source": [
    "import numpy as np\n",
    "import matplotlib.pyplot as plt\n",
    "\n",
    "from scipy import stats\n",
    "from scipy import optimize\n",
    "\n",
    "%matplotlib inline"
   ]
  },
  {
   "cell_type": "code",
   "execution_count": 2,
   "metadata": {
    "collapsed": false
   },
   "outputs": [],
   "source": [
    "n = 15\n",
    "xs = np.linspace(0, 5, num=n)\n",
    "w = 0.75\n",
    "\n",
    "ys = w * xs"
   ]
  },
  {
   "cell_type": "code",
   "execution_count": 3,
   "metadata": {
    "collapsed": false
   },
   "outputs": [
    {
     "data": {
      "text/plain": [
       "[<matplotlib.lines.Line2D at 0x7f4e8855a990>]"
      ]
     },
     "execution_count": 3,
     "metadata": {},
     "output_type": "execute_result"
    },
    {
     "data": {
      "image/png": "[encoded data removed]",
      "text/plain": [
       "<matplotlib.figure.Figure at 0x7f4e885cca10>"
      ]
     },
     "metadata": {},
     "output_type": "display_data"
    }
   ],
   "source": [
    "plt.scatter(xs, ys)\n",
    "plt.plot([0, 5], [0, 5 * w], '--')"
   ]
  },
  {
   "cell_type": "code",
   "execution_count": 4,
   "metadata": {
    "collapsed": true
   },
   "outputs": [],
   "source": [
    "def loss_n_power(w, xs, ys, n = 2):\n",
    "    return np.mean(np.abs((xs * w - ys)) ** n)"
   ]
  },
  {
   "cell_type": "code",
   "execution_count": 5,
   "metadata": {
    "collapsed": true
   },
   "outputs": [],
   "source": [
    "def fit(xs, ys, n = 2):\n",
    "    opt = optimize.minimize_scalar(loss_n_power, bracket=(0.0, 10.0), method=\"golden\", args=(xs, ys, n), tol=1.0e-9)\n",
    "    return opt.x"
   ]
  },
  {
   "cell_type": "code",
   "execution_count": 6,
   "metadata": {
    "collapsed": true
   },
   "outputs": [],
   "source": [
    "def fit_k_times(xs, ys, k, n = 2):\n",
    "    coefs = []\n",
    "    for i in range(k):\n",
    "        noise = np.random.normal(size=xs.shape[0])\n",
    "        w = fit(xs, ys + noise, n = n)\n",
    "        coefs.append(w)\n",
    "    return np.array(coefs)"
   ]
  },
  {
   "cell_type": "code",
   "execution_count": 7,
   "metadata": {
    "collapsed": true
   },
   "outputs": [],
   "source": [
    "ws1 = fit_k_times(xs, ys, 10000, n = 1)"
   ]
  },
  {
   "cell_type": "code",
   "execution_count": 8,
   "metadata": {
    "collapsed": false
   },
   "outputs": [],
   "source": [
    "ws2 = fit_k_times(xs, ys, 10000, n = 2)"
   ]
  },
  {
   "cell_type": "code",
   "execution_count": 9,
   "metadata": {
    "collapsed": true
   },
   "outputs": [],
   "source": [
    "ws4 = fit_k_times(xs, ys, 10000, n = 4)"
   ]
  },
  {
   "cell_type": "code",
   "execution_count": 21,
   "metadata": {
    "collapsed": true
   },
   "outputs": [],
   "source": [
    "ws05 = fit_k_times(xs, ys, 10000, n = 0.5)"
   ]
  },
  {
   "cell_type": "code",
   "execution_count": 22,
   "metadata": {
    "collapsed": false
   },
   "outputs": [
    {
     "data": {
      "image/png": "[encoded data removed]",
      "text/plain": [
       "<matplotlib.figure.Figure at 0x7f4e85a1b790>"
      ]
     },
     "metadata": {},
     "output_type": "display_data"
    }
   ],
   "source": [
    "plt.figure(figsize=(12, 6))\n",
    "plt.hist([ws1 - w, ws2 - w, ws4 - w, ws05 - w], bins=30, label=['MAE', 'MSE', 'M4E', 'M0.5E'])\n",
    "plt.legend()\n",
    "plt.show()"
   ]
  },
  {
   "cell_type": "code",
   "execution_count": 14,
   "metadata": {
    "collapsed": false
   },
   "outputs": [
    {
     "name": "stdout",
     "output_type": "stream",
     "text": [
      "Bias: -0.000469413878281\n",
      "Std: 0.109684413883\n"
     ]
    }
   ],
   "source": [
    "print 'Bias:', np.mean(ws1 - w)\n",
    "print 'Std:', np.std(ws1 - w)"
   ]
  },
  {
   "cell_type": "code",
   "execution_count": 15,
   "metadata": {
    "collapsed": false
   },
   "outputs": [
    {
     "name": "stdout",
     "output_type": "stream",
     "text": [
      "Bias: -0.00143239588203\n",
      "Std: 0.0882468830486\n"
     ]
    }
   ],
   "source": [
    "print 'Bias:', np.mean(ws2 - w)\n",
    "print 'Std:', np.std(ws2 - w)"
   ]
  },
  {
   "cell_type": "code",
   "execution_count": 16,
   "metadata": {
    "collapsed": false
   },
   "outputs": [
    {
     "name": "stdout",
     "output_type": "stream",
     "text": [
      "Bias: -0.000397504906125\n",
      "Std: 0.101810784235\n"
     ]
    }
   ],
   "source": [
    "print 'Bias:', np.mean(ws4 - w)\n",
    "print 'Std:', np.std(ws4 - w)"
   ]
  },
  {
   "cell_type": "code",
   "execution_count": 23,
   "metadata": {
    "collapsed": false
   },
   "outputs": [
    {
     "name": "stdout",
     "output_type": "stream",
     "text": [
      "Bias: -0.000502299615457\n",
      "Std: 0.134766087578\n"
     ]
    }
   ],
   "source": [
    "print 'Bias:', np.mean(ws05 - w)\n",
    "print 'Std:', np.std(ws05 - w)"
   ]
  },
  {
   "cell_type": "code",
   "execution_count": null,
   "metadata": {
    "collapsed": true
   },
   "outputs": [],
   "source": []
  }
 ],
 "metadata": {
  "kernelspec": {
   "display_name": "Python 2",
   "language": "python",
   "name": "python2"
  },
  "language_info": {
   "codemirror_mode": {
    "name": "ipython",
    "version": 2
   },
   "file_extension": ".py",
   "mimetype": "text/x-python",
   "name": "python",
   "nbconvert_exporter": "python",
   "pygments_lexer": "ipython2",
   "version": "2.7.11"
  }
 },
 "nbformat": 4,
 "nbformat_minor": 0
}
